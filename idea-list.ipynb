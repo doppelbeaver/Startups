{
 "cells": [
  {
   "cell_type": "markdown",
   "metadata": {},
   "source": [
    "# List of ideas"
   ]
  },
  {
   "cell_type": "markdown",
   "metadata": {},
   "source": [
    "## 1. Fashion Stylist\n",
    "\n",
    "**Date:** Jan 20, 2020\n",
    "\n",
    "**Details:** (This is where we tell more about our project)\n",
    "- Build an application that tells whether the set of clothes we are wearing is matched with our styles, mordern, and fashionable. Using Machine Learning and Computer Vision, we propose a way to let customers wear stylishly\n",
    "\n",
    "**Problem:** (Questions we are trying to answer, Problems we are trying to solve)\n",
    "- Is this a good fit? Can I know without hiring my own stylist\n",
    "\n",
    "**Execution:** (What software do we use? Tech Stack?)\n",
    "- Collection data: we will use object detection first to identfy differnt pieces of our clothes. \n",
    "- Learning: Using the framework Pytorch, we will use transfer learning (pretrained ResNet50) to classify items that we collected\n",
    "\n",
    "**How to test:** (Our plan to test the product)\n",
    "+ (Jan 25, 2020) Contact reseller and studio to test the application\n",
    "    - **Update**: ( Does it work? What is the feedback? What should we change?)\n",
    "\n",
    "**Market Cap:** (What market cap of the industry we are disrupting? -- in $ bill.)\n",
    "\n",
    "**Pivot:** (What have we pivoted and what worked and not?)\n",
    "- (Jan 25, 2020) Collection of bags based on color of the clothes\n",
    "\n",
    "**UPDATE:** (Update the current state of the project)\n",
    "- *On the wheel*"
   ]
  },
  {
   "cell_type": "code",
   "execution_count": null,
   "metadata": {},
   "outputs": [],
   "source": []
  }
 ],
 "metadata": {
  "kernelspec": {
   "display_name": "Python 3",
   "language": "python",
   "name": "python3"
  },
  "language_info": {
   "codemirror_mode": {
    "name": "ipython",
    "version": 3
   },
   "file_extension": ".py",
   "mimetype": "text/x-python",
   "name": "python",
   "nbconvert_exporter": "python",
   "pygments_lexer": "ipython3",
   "version": "3.7.3"
  }
 },
 "nbformat": 4,
 "nbformat_minor": 4
}
