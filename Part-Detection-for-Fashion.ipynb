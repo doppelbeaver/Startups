{
  "nbformat": 4,
  "nbformat_minor": 0,
  "metadata": {
    "colab": {
      "name": "Untitled0.ipynb",
      "provenance": [],
      "toc_visible": true,
      "authorship_tag": "ABX9TyP2A/mYqOANtWI9gBr9TM3e",
      "include_colab_link": true
    },
    "kernelspec": {
      "name": "python3",
      "display_name": "Python 3"
    }
  },
  "cells": [
    {
      "cell_type": "markdown",
      "metadata": {
        "id": "view-in-github",
        "colab_type": "text"
      },
      "source": [
        "<a href=\"https://colab.research.google.com/github/doppelbeaver/Startups/blob/master/Part-Detection-for-Fashion.ipynb\" target=\"_parent\"><img src=\"https://colab.research.google.com/assets/colab-badge.svg\" alt=\"Open In Colab\"/></a>"
      ]
    },
    {
      "cell_type": "markdown",
      "metadata": {
        "id": "gE_D57KeaUPA",
        "colab_type": "text"
      },
      "source": [
        "# **Part Detection for Fashion Images**\n",
        "\n",
        "This is my first attempt to use object detection on fashion dataset. In the first experiment, I will fine-tune YOLO v2 darkflow on DeepFashion dataset to detect and classify 3 following classes of closthes: Upper-Body Clothes, Bottom-Body Clothes and Full Body Clothes"
      ]
    },
    {
      "cell_type": "markdown",
      "metadata": {
        "id": "0tPjusXqsUUm",
        "colab_type": "text"
      },
      "source": [
        "First, I will load the DeepFashion Images and Annotaion file"
      ]
    }
  ]
}